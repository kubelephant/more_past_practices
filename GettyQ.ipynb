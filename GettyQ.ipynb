{
 "cells": [
  {
   "cell_type": "code",
   "execution_count": 438,
   "metadata": {},
   "outputs": [],
   "source": [
    "import numpy as np\n",
    "import pandas as pd\n",
    "import datetime as dt\n",
    "import scipy as sp\n",
    "\n",
    "import warnings\n",
    "warnings.filterwarnings(action=\"ignore\")"
   ]
  },
  {
   "cell_type": "code",
   "execution_count": 439,
   "metadata": {},
   "outputs": [],
   "source": [
    "df = pd.read_csv('test_data.csv')"
   ]
  },
  {
   "cell_type": "code",
   "execution_count": 440,
   "metadata": {},
   "outputs": [
    {
     "name": "stdout",
     "output_type": "stream",
     "text": [
      "<class 'pandas.core.frame.DataFrame'>\n",
      "RangeIndex: 12654 entries, 0 to 12653\n",
      "Data columns (total 7 columns):\n",
      " #   Column            Non-Null Count  Dtype  \n",
      "---  ------            --------------  -----  \n",
      " 0   search_event_id   12654 non-null  int64  \n",
      " 1   user_id           12654 non-null  int64  \n",
      " 2   experience        12654 non-null  object \n",
      " 3   timestamp         12654 non-null  object \n",
      " 4   search_category   4812 non-null   float64\n",
      " 5   engaged           12654 non-null  int64  \n",
      " 6   engage_event_cnt  12654 non-null  int64  \n",
      "dtypes: float64(1), int64(4), object(2)\n",
      "memory usage: 692.1+ KB\n"
     ]
    }
   ],
   "source": [
    "df.info()"
   ]
  },
  {
   "cell_type": "code",
   "execution_count": 383,
   "metadata": {},
   "outputs": [
    {
     "data": {
      "text/plain": [
       "search_event_id        0\n",
       "user_id                0\n",
       "experience             0\n",
       "timestamp              0\n",
       "search_category     7842\n",
       "engaged                0\n",
       "engage_event_cnt       0\n",
       "dtype: int64"
      ]
     },
     "execution_count": 383,
     "metadata": {},
     "output_type": "execute_result"
    }
   ],
   "source": [
    "df.isnull().sum()"
   ]
  },
  {
   "cell_type": "code",
   "execution_count": 384,
   "metadata": {},
   "outputs": [],
   "source": [
    "df.dropna(inplace=True)"
   ]
  },
  {
   "cell_type": "code",
   "execution_count": 385,
   "metadata": {},
   "outputs": [
    {
     "data": {
      "text/plain": [
       "search_event_id     4812\n",
       "user_id             1861\n",
       "experience             2\n",
       "timestamp           4755\n",
       "search_category       15\n",
       "engaged                2\n",
       "engage_event_cnt       8\n",
       "dtype: int64"
      ]
     },
     "execution_count": 385,
     "metadata": {},
     "output_type": "execute_result"
    }
   ],
   "source": [
    "df.nunique()"
   ]
  },
  {
   "cell_type": "code",
   "execution_count": 386,
   "metadata": {},
   "outputs": [],
   "source": [
    "df['date'] =  pd.to_datetime(df['timestamp']).dt.date"
   ]
  },
  {
   "cell_type": "code",
   "execution_count": 387,
   "metadata": {},
   "outputs": [],
   "source": [
    "test_groups = df.groupby(by=['date','experience'])['user_id'].nunique().reset_index(drop=False)\\\n",
    "                        .rename(columns={'user_id': 'num_users'}, inplace=False)"
   ]
  },
  {
   "cell_type": "code",
   "execution_count": 388,
   "metadata": {},
   "outputs": [],
   "source": [
    "num_engaged = df.groupby(by=['date','experience'])[['engaged','engage_event_cnt']].sum().reset_index(drop=False)"
   ]
  },
  {
   "cell_type": "code",
   "execution_count": 389,
   "metadata": {},
   "outputs": [],
   "source": [
    "xp = pd.merge(test_groups,num_engaged,on=['date','experience'])"
   ]
  },
  {
   "cell_type": "code",
   "execution_count": 390,
   "metadata": {},
   "outputs": [],
   "source": [
    "xp['engagements_per_bucketed_user'] = xp['engage_event_cnt']/xp['num_users']"
   ]
  },
  {
   "cell_type": "code",
   "execution_count": 391,
   "metadata": {},
   "outputs": [],
   "source": [
    "xp['engagements_per_engager'] = xp['engage_event_cnt']/xp['engaged']"
   ]
  },
  {
   "cell_type": "code",
   "execution_count": 392,
   "metadata": {},
   "outputs": [],
   "source": [
    "xp['user_engagement_rate'] = xp['engaged']/xp['num_users']"
   ]
  },
  {
   "cell_type": "code",
   "execution_count": 393,
   "metadata": {},
   "outputs": [
    {
     "data": {
      "text/html": [
       "<div>\n",
       "<style scoped>\n",
       "    .dataframe tbody tr th:only-of-type {\n",
       "        vertical-align: middle;\n",
       "    }\n",
       "\n",
       "    .dataframe tbody tr th {\n",
       "        vertical-align: top;\n",
       "    }\n",
       "\n",
       "    .dataframe thead th {\n",
       "        text-align: right;\n",
       "    }\n",
       "</style>\n",
       "<table border=\"1\" class=\"dataframe\">\n",
       "  <thead>\n",
       "    <tr style=\"text-align: right;\">\n",
       "      <th></th>\n",
       "      <th>date</th>\n",
       "      <th>experience</th>\n",
       "      <th>num_users</th>\n",
       "      <th>engaged</th>\n",
       "      <th>engage_event_cnt</th>\n",
       "      <th>engagements_per_bucketed_user</th>\n",
       "      <th>engagements_per_engager</th>\n",
       "      <th>user_engagement_rate</th>\n",
       "    </tr>\n",
       "  </thead>\n",
       "  <tbody>\n",
       "    <tr>\n",
       "      <th>0</th>\n",
       "      <td>2021-01-10</td>\n",
       "      <td>control</td>\n",
       "      <td>473</td>\n",
       "      <td>164</td>\n",
       "      <td>233</td>\n",
       "      <td>0.492600</td>\n",
       "      <td>1.420732</td>\n",
       "      <td>0.346723</td>\n",
       "    </tr>\n",
       "    <tr>\n",
       "      <th>1</th>\n",
       "      <td>2021-01-10</td>\n",
       "      <td>test</td>\n",
       "      <td>285</td>\n",
       "      <td>93</td>\n",
       "      <td>134</td>\n",
       "      <td>0.470175</td>\n",
       "      <td>1.440860</td>\n",
       "      <td>0.326316</td>\n",
       "    </tr>\n",
       "    <tr>\n",
       "      <th>2</th>\n",
       "      <td>2021-01-11</td>\n",
       "      <td>control</td>\n",
       "      <td>458</td>\n",
       "      <td>141</td>\n",
       "      <td>217</td>\n",
       "      <td>0.473799</td>\n",
       "      <td>1.539007</td>\n",
       "      <td>0.307860</td>\n",
       "    </tr>\n",
       "    <tr>\n",
       "      <th>3</th>\n",
       "      <td>2021-01-11</td>\n",
       "      <td>test</td>\n",
       "      <td>289</td>\n",
       "      <td>90</td>\n",
       "      <td>130</td>\n",
       "      <td>0.449827</td>\n",
       "      <td>1.444444</td>\n",
       "      <td>0.311419</td>\n",
       "    </tr>\n",
       "    <tr>\n",
       "      <th>4</th>\n",
       "      <td>2021-01-12</td>\n",
       "      <td>control</td>\n",
       "      <td>434</td>\n",
       "      <td>142</td>\n",
       "      <td>208</td>\n",
       "      <td>0.479263</td>\n",
       "      <td>1.464789</td>\n",
       "      <td>0.327189</td>\n",
       "    </tr>\n",
       "    <tr>\n",
       "      <th>5</th>\n",
       "      <td>2021-01-12</td>\n",
       "      <td>test</td>\n",
       "      <td>282</td>\n",
       "      <td>86</td>\n",
       "      <td>121</td>\n",
       "      <td>0.429078</td>\n",
       "      <td>1.406977</td>\n",
       "      <td>0.304965</td>\n",
       "    </tr>\n",
       "    <tr>\n",
       "      <th>6</th>\n",
       "      <td>2021-01-13</td>\n",
       "      <td>control</td>\n",
       "      <td>477</td>\n",
       "      <td>172</td>\n",
       "      <td>248</td>\n",
       "      <td>0.519916</td>\n",
       "      <td>1.441860</td>\n",
       "      <td>0.360587</td>\n",
       "    </tr>\n",
       "    <tr>\n",
       "      <th>7</th>\n",
       "      <td>2021-01-13</td>\n",
       "      <td>test</td>\n",
       "      <td>269</td>\n",
       "      <td>74</td>\n",
       "      <td>102</td>\n",
       "      <td>0.379182</td>\n",
       "      <td>1.378378</td>\n",
       "      <td>0.275093</td>\n",
       "    </tr>\n",
       "    <tr>\n",
       "      <th>8</th>\n",
       "      <td>2021-01-14</td>\n",
       "      <td>control</td>\n",
       "      <td>431</td>\n",
       "      <td>140</td>\n",
       "      <td>219</td>\n",
       "      <td>0.508121</td>\n",
       "      <td>1.564286</td>\n",
       "      <td>0.324826</td>\n",
       "    </tr>\n",
       "    <tr>\n",
       "      <th>9</th>\n",
       "      <td>2021-01-14</td>\n",
       "      <td>test</td>\n",
       "      <td>292</td>\n",
       "      <td>74</td>\n",
       "      <td>115</td>\n",
       "      <td>0.393836</td>\n",
       "      <td>1.554054</td>\n",
       "      <td>0.253425</td>\n",
       "    </tr>\n",
       "  </tbody>\n",
       "</table>\n",
       "</div>"
      ],
      "text/plain": [
       "         date experience  num_users  engaged  engage_event_cnt  \\\n",
       "0  2021-01-10    control        473      164               233   \n",
       "1  2021-01-10       test        285       93               134   \n",
       "2  2021-01-11    control        458      141               217   \n",
       "3  2021-01-11       test        289       90               130   \n",
       "4  2021-01-12    control        434      142               208   \n",
       "5  2021-01-12       test        282       86               121   \n",
       "6  2021-01-13    control        477      172               248   \n",
       "7  2021-01-13       test        269       74               102   \n",
       "8  2021-01-14    control        431      140               219   \n",
       "9  2021-01-14       test        292       74               115   \n",
       "\n",
       "   engagements_per_bucketed_user  engagements_per_engager  \\\n",
       "0                       0.492600                 1.420732   \n",
       "1                       0.470175                 1.440860   \n",
       "2                       0.473799                 1.539007   \n",
       "3                       0.449827                 1.444444   \n",
       "4                       0.479263                 1.464789   \n",
       "5                       0.429078                 1.406977   \n",
       "6                       0.519916                 1.441860   \n",
       "7                       0.379182                 1.378378   \n",
       "8                       0.508121                 1.564286   \n",
       "9                       0.393836                 1.554054   \n",
       "\n",
       "   user_engagement_rate  \n",
       "0              0.346723  \n",
       "1              0.326316  \n",
       "2              0.307860  \n",
       "3              0.311419  \n",
       "4              0.327189  \n",
       "5              0.304965  \n",
       "6              0.360587  \n",
       "7              0.275093  \n",
       "8              0.324826  \n",
       "9              0.253425  "
      ]
     },
     "execution_count": 393,
     "metadata": {},
     "output_type": "execute_result"
    }
   ],
   "source": [
    "xp"
   ]
  },
  {
   "cell_type": "code",
   "execution_count": 394,
   "metadata": {},
   "outputs": [],
   "source": [
    "p1 = float(xp[xp['experience'] == 'control']['user_engagement_rate'].mean())\n",
    "p2 = float(xp[xp['experience'] == 'test']['user_engagement_rate'].mean())\n",
    "n1 = float(xp[xp['experience'] == 'control']['num_users'].mean())\n",
    "n2 = float(xp[xp['experience'] == 'test']['num_users'].mean())"
   ]
  },
  {
   "cell_type": "code",
   "execution_count": 395,
   "metadata": {},
   "outputs": [],
   "source": [
    "sd = np.sqrt((p1*(1-p1))/n1 + (p2*(1-p2))/n2)"
   ]
  },
  {
   "cell_type": "code",
   "execution_count": 396,
   "metadata": {},
   "outputs": [],
   "source": [
    "z = round((p1 - p2)/sd,3)"
   ]
  },
  {
   "cell_type": "code",
   "execution_count": 397,
   "metadata": {},
   "outputs": [
    {
     "data": {
      "text/plain": [
       "1.121"
      ]
     },
     "execution_count": 397,
     "metadata": {},
     "output_type": "execute_result"
    }
   ],
   "source": [
    "z"
   ]
  },
  {
   "cell_type": "code",
   "execution_count": 398,
   "metadata": {},
   "outputs": [],
   "source": [
    "p_values = round(sp.stats.norm.sf(abs(z))*2,3)"
   ]
  },
  {
   "cell_type": "code",
   "execution_count": 399,
   "metadata": {},
   "outputs": [
    {
     "data": {
      "text/plain": [
       "0.262"
      ]
     },
     "execution_count": 399,
     "metadata": {},
     "output_type": "execute_result"
    }
   ],
   "source": [
    "p_values"
   ]
  },
  {
   "cell_type": "code",
   "execution_count": null,
   "metadata": {},
   "outputs": [],
   "source": []
  },
  {
   "cell_type": "code",
   "execution_count": 400,
   "metadata": {},
   "outputs": [],
   "source": [
    "a = pd.DataFrame([1,2,3,4,5])\n",
    "b = pd.DataFrame([2,4])"
   ]
  },
  {
   "cell_type": "code",
   "execution_count": 401,
   "metadata": {},
   "outputs": [
    {
     "data": {
      "text/html": [
       "<div>\n",
       "<style scoped>\n",
       "    .dataframe tbody tr th:only-of-type {\n",
       "        vertical-align: middle;\n",
       "    }\n",
       "\n",
       "    .dataframe tbody tr th {\n",
       "        vertical-align: top;\n",
       "    }\n",
       "\n",
       "    .dataframe thead th {\n",
       "        text-align: right;\n",
       "    }\n",
       "</style>\n",
       "<table border=\"1\" class=\"dataframe\">\n",
       "  <thead>\n",
       "    <tr style=\"text-align: right;\">\n",
       "      <th></th>\n",
       "      <th>0</th>\n",
       "    </tr>\n",
       "  </thead>\n",
       "  <tbody>\n",
       "    <tr>\n",
       "      <th>0</th>\n",
       "      <td>1</td>\n",
       "    </tr>\n",
       "    <tr>\n",
       "      <th>2</th>\n",
       "      <td>3</td>\n",
       "    </tr>\n",
       "    <tr>\n",
       "      <th>4</th>\n",
       "      <td>5</td>\n",
       "    </tr>\n",
       "  </tbody>\n",
       "</table>\n",
       "</div>"
      ],
      "text/plain": [
       "   0\n",
       "0  1\n",
       "2  3\n",
       "4  5"
      ]
     },
     "execution_count": 401,
     "metadata": {},
     "output_type": "execute_result"
    }
   ],
   "source": [
    "a[~a[0].isin(b[0])]"
   ]
  },
  {
   "cell_type": "code",
   "execution_count": 402,
   "metadata": {},
   "outputs": [
    {
     "data": {
      "text/plain": [
       "0    1\n",
       "1    2\n",
       "2    3\n",
       "3    4\n",
       "4    5\n",
       "Name: 0, dtype: int64"
      ]
     },
     "execution_count": 402,
     "metadata": {},
     "output_type": "execute_result"
    }
   ],
   "source": [
    "a[0]"
   ]
  },
  {
   "cell_type": "code",
   "execution_count": 415,
   "metadata": {},
   "outputs": [
    {
     "data": {
      "text/plain": [
       "0    0.346723\n",
       "1    0.326316\n",
       "2    0.307860\n",
       "3    0.311419\n",
       "4    0.327189\n",
       "5    0.304965\n",
       "6    0.360587\n",
       "7    0.275093\n",
       "8    0.324826\n",
       "9    0.253425\n",
       "Name: user_engagement_rate, dtype: float64"
      ]
     },
     "execution_count": 415,
     "metadata": {},
     "output_type": "execute_result"
    }
   ],
   "source": [
    "xp[xp['experience']\\\n",
    "   .isin(['control','test'])]['user_engagement_rate']"
   ]
  },
  {
   "cell_type": "code",
   "execution_count": 437,
   "metadata": {},
   "outputs": [
    {
     "data": {
      "text/html": [
       "<div>\n",
       "<style scoped>\n",
       "    .dataframe tbody tr th:only-of-type {\n",
       "        vertical-align: middle;\n",
       "    }\n",
       "\n",
       "    .dataframe tbody tr th {\n",
       "        vertical-align: top;\n",
       "    }\n",
       "\n",
       "    .dataframe thead th {\n",
       "        text-align: right;\n",
       "    }\n",
       "</style>\n",
       "<table border=\"1\" class=\"dataframe\">\n",
       "  <thead>\n",
       "    <tr style=\"text-align: right;\">\n",
       "      <th></th>\n",
       "      <th>date</th>\n",
       "      <th>num_users</th>\n",
       "    </tr>\n",
       "  </thead>\n",
       "  <tbody>\n",
       "    <tr>\n",
       "      <th>3</th>\n",
       "      <td>2021-01-13</td>\n",
       "      <td>477</td>\n",
       "    </tr>\n",
       "    <tr>\n",
       "      <th>0</th>\n",
       "      <td>2021-01-10</td>\n",
       "      <td>473</td>\n",
       "    </tr>\n",
       "    <tr>\n",
       "      <th>1</th>\n",
       "      <td>2021-01-11</td>\n",
       "      <td>458</td>\n",
       "    </tr>\n",
       "    <tr>\n",
       "      <th>2</th>\n",
       "      <td>2021-01-12</td>\n",
       "      <td>434</td>\n",
       "    </tr>\n",
       "    <tr>\n",
       "      <th>4</th>\n",
       "      <td>2021-01-14</td>\n",
       "      <td>431</td>\n",
       "    </tr>\n",
       "  </tbody>\n",
       "</table>\n",
       "</div>"
      ],
      "text/plain": [
       "         date  num_users\n",
       "3  2021-01-13        477\n",
       "0  2021-01-10        473\n",
       "1  2021-01-11        458\n",
       "2  2021-01-12        434\n",
       "4  2021-01-14        431"
      ]
     },
     "execution_count": 437,
     "metadata": {},
     "output_type": "execute_result"
    }
   ],
   "source": [
    "xp[xp['experience'] == 'control'].groupby('date')['num_users'].sum().reset_index(drop=False).sort_values(by = 'num_users', ascending = False)"
   ]
  },
  {
   "cell_type": "code",
   "execution_count": 433,
   "metadata": {},
   "outputs": [
    {
     "data": {
      "text/html": [
       "<div>\n",
       "<style scoped>\n",
       "    .dataframe tbody tr th:only-of-type {\n",
       "        vertical-align: middle;\n",
       "    }\n",
       "\n",
       "    .dataframe tbody tr th {\n",
       "        vertical-align: top;\n",
       "    }\n",
       "\n",
       "    .dataframe thead th {\n",
       "        text-align: right;\n",
       "    }\n",
       "</style>\n",
       "<table border=\"1\" class=\"dataframe\">\n",
       "  <thead>\n",
       "    <tr style=\"text-align: right;\">\n",
       "      <th></th>\n",
       "      <th>num_users</th>\n",
       "    </tr>\n",
       "    <tr>\n",
       "      <th>date</th>\n",
       "      <th></th>\n",
       "    </tr>\n",
       "  </thead>\n",
       "  <tbody>\n",
       "    <tr>\n",
       "      <th>2021-01-10</th>\n",
       "      <td>473</td>\n",
       "    </tr>\n",
       "    <tr>\n",
       "      <th>2021-01-11</th>\n",
       "      <td>458</td>\n",
       "    </tr>\n",
       "    <tr>\n",
       "      <th>2021-01-12</th>\n",
       "      <td>434</td>\n",
       "    </tr>\n",
       "    <tr>\n",
       "      <th>2021-01-13</th>\n",
       "      <td>477</td>\n",
       "    </tr>\n",
       "    <tr>\n",
       "      <th>2021-01-14</th>\n",
       "      <td>431</td>\n",
       "    </tr>\n",
       "  </tbody>\n",
       "</table>\n",
       "</div>"
      ],
      "text/plain": [
       "            num_users\n",
       "date                 \n",
       "2021-01-10        473\n",
       "2021-01-11        458\n",
       "2021-01-12        434\n",
       "2021-01-13        477\n",
       "2021-01-14        431"
      ]
     },
     "execution_count": 433,
     "metadata": {},
     "output_type": "execute_result"
    }
   ],
   "source": [
    "a"
   ]
  },
  {
   "cell_type": "code",
   "execution_count": 425,
   "metadata": {},
   "outputs": [
    {
     "data": {
      "text/plain": [
       "dtype('int64')"
      ]
     },
     "execution_count": 425,
     "metadata": {},
     "output_type": "execute_result"
    }
   ],
   "source": []
  },
  {
   "cell_type": "code",
   "execution_count": null,
   "metadata": {},
   "outputs": [],
   "source": []
  },
  {
   "cell_type": "code",
   "execution_count": null,
   "metadata": {},
   "outputs": [],
   "source": []
  },
  {
   "cell_type": "code",
   "execution_count": null,
   "metadata": {},
   "outputs": [],
   "source": []
  },
  {
   "cell_type": "code",
   "execution_count": 535,
   "metadata": {},
   "outputs": [],
   "source": [
    "strings = [\"AABBCc\"\n",
    "          ,\"This is a second string\"\n",
    "          ,\"The sring value problem is awesome\"\n",
    "          ,\"THis, Has, a, lot, of, needless, commas,,,,\"\n",
    "          ,\"BNONIUXNoiyusfboIUTN!!\"\n",
    "          ,\"What time is it?\"]"
   ]
  },
  {
   "cell_type": "code",
   "execution_count": 536,
   "metadata": {},
   "outputs": [],
   "source": [
    "alphabet = 'abcdefghijklmnopqrstuvwxyz'"
   ]
  },
  {
   "cell_type": "code",
   "execution_count": 537,
   "metadata": {},
   "outputs": [],
   "source": [
    "alphabet_list = dict(enumerate([alphabet[x] for x in range(len(alphabet))], 1))"
   ]
  },
  {
   "cell_type": "code",
   "execution_count": 538,
   "metadata": {},
   "outputs": [],
   "source": [
    "alphabet_list = dict([(value, key) for key, value in alphabet_list.items()])"
   ]
  },
  {
   "cell_type": "code",
   "execution_count": 539,
   "metadata": {},
   "outputs": [],
   "source": [
    "lst_aphabet = [list(x.strip().lower()) for x in strings]"
   ]
  },
  {
   "cell_type": "code",
   "execution_count": 540,
   "metadata": {},
   "outputs": [
    {
     "data": {
      "text/plain": [
       "[12, 232, 351, 300, 289, 156]"
      ]
     },
     "execution_count": 540,
     "metadata": {},
     "output_type": "execute_result"
    }
   ],
   "source": [
    "new_lst=[]\n",
    "for i in range(len(lst_aphabet)):\n",
    "    a = [alphabet_list[x] for x in lst_aphabet[i] if x in alphabet_list.keys()]\n",
    "    new_lst.append(sum(a))\n",
    "    \n",
    "new_lst"
   ]
  },
  {
   "cell_type": "code",
   "execution_count": null,
   "metadata": {},
   "outputs": [],
   "source": []
  },
  {
   "cell_type": "code",
   "execution_count": null,
   "metadata": {},
   "outputs": [],
   "source": []
  },
  {
   "cell_type": "code",
   "execution_count": null,
   "metadata": {},
   "outputs": [],
   "source": []
  },
  {
   "cell_type": "code",
   "execution_count": null,
   "metadata": {},
   "outputs": [],
   "source": []
  },
  {
   "cell_type": "code",
   "execution_count": 519,
   "metadata": {},
   "outputs": [
    {
     "data": {
      "text/plain": [
       "97"
      ]
     },
     "execution_count": 519,
     "metadata": {},
     "output_type": "execute_result"
    }
   ],
   "source": [
    "ord('a')"
   ]
  },
  {
   "cell_type": "code",
   "execution_count": null,
   "metadata": {},
   "outputs": [],
   "source": []
  },
  {
   "cell_type": "code",
   "execution_count": null,
   "metadata": {},
   "outputs": [],
   "source": []
  },
  {
   "cell_type": "code",
   "execution_count": null,
   "metadata": {},
   "outputs": [],
   "source": []
  },
  {
   "cell_type": "code",
   "execution_count": 542,
   "metadata": {},
   "outputs": [],
   "source": [
    "def solution(list):\n",
    "    res = []\n",
    "    for string in list:\n",
    "        res.append(calculate(string))\n",
    "    return res\n",
    "\n",
    "def calculate(string):\n",
    "    sum = 0\n",
    "    for char in string:\n",
    "        if char.isalpha():\n",
    "            sum += ord(char.lower()) - ord('a') + 1\n",
    "    return sum"
   ]
  },
  {
   "cell_type": "code",
   "execution_count": 544,
   "metadata": {},
   "outputs": [
    {
     "data": {
      "text/plain": [
       "[12, 232, 351, 300, 289, 156]"
      ]
     },
     "execution_count": 544,
     "metadata": {},
     "output_type": "execute_result"
    }
   ],
   "source": [
    "solution(strings)"
   ]
  },
  {
   "cell_type": "code",
   "execution_count": 548,
   "metadata": {},
   "outputs": [
    {
     "data": {
      "text/plain": [
       "1"
      ]
     },
     "execution_count": 548,
     "metadata": {},
     "output_type": "execute_result"
    }
   ],
   "source": [
    "ord('a')-ord('a')+1"
   ]
  },
  {
   "cell_type": "code",
   "execution_count": null,
   "metadata": {},
   "outputs": [],
   "source": []
  }
 ],
 "metadata": {
  "kernelspec": {
   "display_name": "Python 3",
   "language": "python",
   "name": "python3"
  },
  "language_info": {
   "codemirror_mode": {
    "name": "ipython",
    "version": 3
   },
   "file_extension": ".py",
   "mimetype": "text/x-python",
   "name": "python",
   "nbconvert_exporter": "python",
   "pygments_lexer": "ipython3",
   "version": "3.8.5"
  }
 },
 "nbformat": 4,
 "nbformat_minor": 4
}
