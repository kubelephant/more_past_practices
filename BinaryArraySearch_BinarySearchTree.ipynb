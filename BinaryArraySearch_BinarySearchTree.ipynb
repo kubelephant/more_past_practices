{
 "cells": [
  {
   "cell_type": "markdown",
   "metadata": {},
   "source": [
    "# Binary Array Search"
   ]
  },
  {
   "cell_type": "code",
   "execution_count": 26,
   "metadata": {},
   "outputs": [],
   "source": [
    "from time import time\n",
    "# Binary Array Search\n",
    "\n",
    "def bs_contains(ordered, target):\n",
    "    # Use binary array search to determine if target is in collection\n",
    "    low = 0\n",
    "    high = len(ordered)-1\n",
    "    while low <= high:\n",
    "        mid = (low + high) // 2\n",
    "        if target == ordered[mid]:\n",
    "            return True\n",
    "        elif target < ordered[mid]:\n",
    "            high = mid - 1\n",
    "        else:\n",
    "            low = mid + 1\n",
    "    return -(low + 1)"
   ]
  },
  {
   "cell_type": "code",
   "execution_count": 44,
   "metadata": {},
   "outputs": [],
   "source": [
    "def insertInPlace(ordered, target):\n",
    "    # Inserts target into a proper location\n",
    "    for i in range(len(ordered)):\n",
    "        if target < ordered[i]:\n",
    "            ordered.insert(i, target)\n",
    "            return\n",
    "        ordered.append(target)"
   ]
  },
  {
   "cell_type": "code",
   "execution_count": 45,
   "metadata": {},
   "outputs": [],
   "source": [
    "def performance1():\n",
    "    n = 1024\n",
    "    while n < 50000:\n",
    "        sorted = list(range(n))\n",
    "        now = time()\n",
    "        \n",
    "        insertInPlace(sorted, n+1)\n",
    "        \n",
    "        done = time()\n",
    "        \n",
    "        print(n, (done-now)*1000)\n",
    "        n += 2"
   ]
  },
  {
   "cell_type": "code",
   "execution_count": null,
   "metadata": {},
   "outputs": [],
   "source": [
    "performance()"
   ]
  },
  {
   "cell_type": "markdown",
   "metadata": {},
   "source": [
    "# Binary Search Tree"
   ]
  },
  {
   "cell_type": "code",
   "execution_count": 88,
   "metadata": {},
   "outputs": [],
   "source": [
    "class BinaryNode:\n",
    "    def __init__(self, value = None):\n",
    "        # create a binary node\n",
    "        self.value = value\n",
    "        self.left = None\n",
    "        self.right = None\n",
    "        \n",
    "    def add(self, val):\n",
    "        # Adds a new node to the tree containing this value\n",
    "        if val <= self.value:\n",
    "            if self.left:\n",
    "                self.left.add(val)\n",
    "            else:\n",
    "                self.left = BinaryNode(val)\n",
    "        else:\n",
    "            if self.right:\n",
    "                self.right.add(val)\n",
    "            else:\n",
    "                self.right = BinaryNode(val)\n",
    "                \n",
    "    def delete(self):\n",
    "        # Remove value of self from BinaryTree. Works in conjunction with remove method in BinaryTree\n",
    "        \n",
    "        # check if node is a leaf\n",
    "        if self.left == self.right == None:\n",
    "            return None\n",
    "        if self.left == None:\n",
    "            return self.right\n",
    "        if self.right == None:\n",
    "            return self.left\n",
    "        \n",
    "        # finding the max value in the left branch by always searching for grandchild on the right\n",
    "        child = self.left\n",
    "        grandchild = child.right\n",
    "        if grandchild:\n",
    "            while grandchild.right:\n",
    "                child = grandchild\n",
    "                grandchild = child.right\n",
    "            self.value = grandchild.value\n",
    "            child.right = grandchild.left\n",
    "        else:\n",
    "            self.left = child.left\n",
    "            self.value = child.value\n",
    "            \n",
    "        return self\n",
    "    \n",
    "    \n",
    "    def inorder(self):\n",
    "        # In order traversal of tree rooted at given node.\n",
    "        if self.left:\n",
    "            for n in self.left.inorder():\n",
    "                yield n\n",
    "                \n",
    "        yield self.value\n",
    "        \n",
    "        if self.right:\n",
    "            for n in self.right.inorder():\n",
    "                yield n"
   ]
  },
  {
   "cell_type": "code",
   "execution_count": 98,
   "metadata": {},
   "outputs": [],
   "source": [
    "# Binary Search Tree implementation\n",
    "\n",
    "class BinaryTree:\n",
    "    def __init__(self):\n",
    "        # Create empty binary tree\n",
    "        self.root = None\n",
    "        \n",
    "    def add(self, value):\n",
    "        # Insert value into proper location in Binary Tree\n",
    "        if self.root is None:\n",
    "            self.root = BinaryNode(value)\n",
    "        else:\n",
    "            self.root.add(value)\n",
    "            \n",
    "    def contains(self, target):\n",
    "        # Check whether BST contains target value\n",
    "        node = self.root\n",
    "        while node:\n",
    "            if target == node.value:\n",
    "                return True\n",
    "            if target < node.value:\n",
    "                node = node.left\n",
    "            else:\n",
    "                node = node.right\n",
    "        return False\n",
    "    \n",
    "    def remove(self, value):\n",
    "        # remove value from tree\n",
    "        \n",
    "        if self.root:\n",
    "            self.root = self.removeFromParent(self.root, value)\n",
    "            \n",
    "    def removeFromParent(self, parent, value):\n",
    "        # remove value from tree rooted at parent\n",
    "        if parent is None:\n",
    "            return None\n",
    "        \n",
    "        if value == parent.value:\n",
    "            return parent.delete()\n",
    "        elif value < parent.val:\n",
    "            parent.left = self.removeFromParent(parent.left, value)\n",
    "        else:\n",
    "            parent.right = self.removeFromParent(parent.right, value)\n",
    "            \n",
    "        return\n",
    "    \n",
    "    def __iter__(self):\n",
    "        # In order traversal of elements in the tree\n",
    "        if self.root:\n",
    "            return self.root.inorder()\n",
    "    \n",
    "import random    \n",
    "def performance2():\n",
    "    n = 1024\n",
    "    while n <= 65536:\n",
    "        bt = BinaryTree()\n",
    "        for i in list(range(n)):\n",
    "            bt.add(random.randint(1, n))\n",
    "            \n",
    "        now = time()\n",
    "        bt.contains(random.randint(1, n))\n",
    "        print(n, (time()-now)*1000)\n",
    "        \n",
    "        n *= 2\n",
    "    "
   ]
  },
  {
   "cell_type": "code",
   "execution_count": 104,
   "metadata": {},
   "outputs": [],
   "source": [
    "bt = BinaryTree()\n",
    "bt.add(5)\n",
    "bt.add(1)\n",
    "bt.add(10)"
   ]
  },
  {
   "cell_type": "code",
   "execution_count": 105,
   "metadata": {},
   "outputs": [
    {
     "data": {
      "text/plain": [
       "True"
      ]
     },
     "execution_count": 105,
     "metadata": {},
     "output_type": "execute_result"
    }
   ],
   "source": [
    "bt.contains(5)"
   ]
  },
  {
   "cell_type": "code",
   "execution_count": 106,
   "metadata": {},
   "outputs": [
    {
     "data": {
      "text/plain": [
       "True"
      ]
     },
     "execution_count": 106,
     "metadata": {},
     "output_type": "execute_result"
    }
   ],
   "source": [
    "bt.contains(5)"
   ]
  },
  {
   "cell_type": "code",
   "execution_count": 109,
   "metadata": {},
   "outputs": [
    {
     "name": "stdout",
     "output_type": "stream",
     "text": [
      "1\n",
      "5\n",
      "10\n"
     ]
    }
   ],
   "source": [
    "for i in bt.__iter__():\n",
    "    print(i)"
   ]
  },
  {
   "cell_type": "code",
   "execution_count": 112,
   "metadata": {},
   "outputs": [
    {
     "data": {
      "text/plain": [
       "[1, 5, 10]"
      ]
     },
     "execution_count": 112,
     "metadata": {},
     "output_type": "execute_result"
    }
   ],
   "source": [
    "list(bt)"
   ]
  },
  {
   "cell_type": "code",
   "execution_count": null,
   "metadata": {},
   "outputs": [],
   "source": []
  }
 ],
 "metadata": {
  "kernelspec": {
   "display_name": "Python 3",
   "language": "python",
   "name": "python3"
  },
  "language_info": {
   "codemirror_mode": {
    "name": "ipython",
    "version": 3
   },
   "file_extension": ".py",
   "mimetype": "text/x-python",
   "name": "python",
   "nbconvert_exporter": "python",
   "pygments_lexer": "ipython3",
   "version": "3.8.5"
  }
 },
 "nbformat": 4,
 "nbformat_minor": 4
}
