{
 "cells": [
  {
   "cell_type": "code",
   "execution_count": null,
   "metadata": {},
   "outputs": [],
   "source": [
    "import numpy as np\n",
    "import pandas as pd\n",
    "import scipy.stats as stats\n",
    "import matplotlib.pyplot as plt"
   ]
  },
  {
   "cell_type": "markdown",
   "metadata": {},
   "source": [
    "# Adjust Dataset for bootstrap"
   ]
  },
  {
   "cell_type": "code",
   "execution_count": null,
   "metadata": {},
   "outputs": [],
   "source": [
    "# Two options to start with, choose either one, but one at a time.\n",
    "# Option 1: importing data with outliers\n",
    "query = s.parse_query_file('/Users/leon.zhao/Desktop/SQL/simplification_test_summary')\n",
    "\n",
    "# Option 2: importing data without outliers\n",
    "# data = s.parse_query_file('/Users/leon.zhao/Desktop/SQL/simplification_test_summary_no_outliers')\n",
    "\n",
    "# Printing the query to check\n",
    "print(query)\n",
    "rows, colnames = s.execute_query(query)"
   ]
  },
  {
   "cell_type": "code",
   "execution_count": null,
   "metadata": {},
   "outputs": [],
   "source": [
    "# Loading data into a dataframe and presenting the new data format\n",
    "df = pd.DataFrame(data = rows, columns = colnames)\n",
    "df.head()"
   ]
  },
  {
   "cell_type": "code",
   "execution_count": null,
   "metadata": {},
   "outputs": [],
   "source": [
    "# Choosing the desired metric and taking out the zeros\n",
    "\n",
    "platform = {}\n",
    "rev_output = {}\n",
    "for plat in ['AD','iOS']:\n",
    "    df1 = df.loc[df['PLAT'] == plat]\n",
    "    platform[plat] = df1\n",
    "    rev_output[plat + '_rev'] = platform[plat].loc[:,['PLAT','VARIANT_NAME','BUMP_REVENUE','PROMOTION_REVENUE','SUB_REVENUE'] ]\n",
    "    rev_output[plat + '_rev']['IAP_REVENUE'] = rev_output[plat + '_rev'].iloc[:,1:].sum(axis=1)\n",
    "    rev_output[plat + '_rev_no_zeros'] = rev_output[plat + '_rev'][rev_output[plat + '_rev'].IAP_REVENUE != 0.0]\n"
   ]
  },
  {
   "cell_type": "code",
   "execution_count": null,
   "metadata": {},
   "outputs": [],
   "source": [
    "# Creating a name list for variants\n",
    "\n",
    "df_names = []\n",
    "for key, value in rev_output.items() :\n",
    "    df_names.append(key)"
   ]
  },
  {
   "cell_type": "code",
   "execution_count": null,
   "metadata": {},
   "outputs": [],
   "source": [
    "# Describing the sliced data within each variant\n",
    "\n",
    "variant_dic = {}\n",
    "for df in df_names:\n",
    "    for variant_name in ['Control', 'Subs_1d_3d', 'Subs_bump_3d', 'Subs_1d_3d_7d_14d']:\n",
    "        print(df+'_'+variant_name)\n",
    "        print(rev_output[df][rev_output[df].VARIANT_NAME == variant_name].describe())\n",
    "        variants = rev_output[df].loc[rev_output[df]['VARIANT_NAME'] == variant_name]\n",
    "        variant_dic[df+'_'+variant_name+'_iap'] = variants.iloc[:,-1]\n",
    "\n",
    "for key, value in variant_dic.items():\n",
    "    iap = pd.DataFrame(value)"
   ]
  },
  {
   "cell_type": "code",
   "execution_count": null,
   "metadata": {},
   "outputs": [],
   "source": [
    "# creating an non-zero dic\n",
    "\n",
    "variant_dic_nonzero = {}\n",
    "for variant, value_series in variant_dic.items():\n",
    "    values_non_zero = [v for v in value_series.values if v > 0]\n",
    "    variant_dic_nonzero[variant] = np.array(values_non_zero)"
   ]
  },
  {
   "cell_type": "markdown",
   "metadata": {},
   "source": [
    "# Getting the following\n",
    "1. User penetration\n",
    "2. Number of Users Bucketed\n",
    "3. Total sum of the key metrics within bucket"
   ]
  },
  {
   "cell_type": "code",
   "execution_count": null,
   "metadata": {},
   "outputs": [],
   "source": [
    "p = {}\n",
    "proportion = [['AD_rev', 'AD_rev_no_zeros'],['iOS_rev', 'iOS_rev_no_zeros']]\n",
    "variant_name = ['Control', 'Subs_1d_3d', 'Subs_bump_3d', 'Subs_1d_3d_7d_14d']\n",
    "for i in range(len(proportion)):\n",
    "    for v_name in variant_name:\n",
    "        p_comb_n = proportion[i][1]+'_'+v_name\n",
    "        p_comb_d = proportion[i][0]+'_'+v_name\n",
    "        p[p_comb_d] = variant_dic[p_comb_n+'_iap'].count()/variant_dic[p_comb_d+'_iap'].count(), variant_dic[p_comb_d+'_iap'].count(), variant_dic[p_comb_d+'_iap'].sum()\n",
    "    \n",
    "p"
   ]
  },
  {
   "cell_type": "markdown",
   "metadata": {},
   "source": [
    "# Sampling the data for num_iterations times\n",
    "1. Simulating number of purchasers with binomial draws\n",
    "2. Simulating value spent with random draws\n",
    "3. Generate sim_final: values spent per purchaser"
   ]
  },
  {
   "cell_type": "code",
   "execution_count": null,
   "metadata": {},
   "outputs": [],
   "source": [
    "num_iterations = 10000\n",
    "binomial = {}\n",
    "revenue = {}\n",
    "sim_final = {}\n",
    "for variants, values in p.items():\n",
    "    #print(int(values[1]))\n",
    "    for i in range(num_iterations):\n",
    "        binomial.setdefault(variants, []).append(np.random.binomial(values[1], values[0]))\n",
    "        revenue.setdefault(variants, []).append(np.random.choice(variant_dic_nonzero[variants + '_iap'], size=binomial[variants][i], replace=True))\n",
    "        sim_final.setdefault(variants, []).append(np.sum(revenue[variants][i]) / values[1])\n"
   ]
  },
  {
   "cell_type": "markdown",
   "metadata": {},
   "source": [
    "# Get differences for key metric variants vs. control"
   ]
  },
  {
   "cell_type": "code",
   "execution_count": null,
   "metadata": {},
   "outputs": [],
   "source": [
    "variant_name = []\n",
    "for name in p.keys():\n",
    "    variant_name.append(name)\n",
    "\n",
    "variant_name.sort()\n",
    "\n",
    "ad_variant_name = variant_name[:len(variant_name)//2]\n",
    "ios_variant_name = variant_name[len(variant_name)//2:]\n",
    "\n",
    "\n",
    "ad_bootstrapped_diff = {}\n",
    "ios_bootstrapped_diff = {}\n",
    "\n",
    "for i in range(1,len(ad_variant_name)):\n",
    "    for j in range(num_iterations):\n",
    "        ad_bootstrapped_diff.setdefault(ad_variant_name[i], []).append(sim_final[ad_variant_name[i]][j] - sim_final[ad_variant_name[0]][j])\n",
    "\n",
    "for i in range(1,len(ios_variant_name)):\n",
    "    for j in range(num_iterations):\n",
    "        ios_bootstrapped_diff.setdefault(ios_variant_name[i], []).append(sim_final[ios_variant_name[i]][j] - sim_final[ios_variant_name[0]][j])\n"
   ]
  },
  {
   "cell_type": "code",
   "execution_count": null,
   "metadata": {},
   "outputs": [],
   "source": [
    "for key, value in ad_bootstrapped_diff.items():\n",
    "    print(np.array(value))"
   ]
  },
  {
   "cell_type": "code",
   "execution_count": null,
   "metadata": {},
   "outputs": [],
   "source": [
    "for key, value in ad_bootstrapped_diff.items():\n",
    "    ad_bootstrapped_diff[key] = np.array(value)\n",
    "    x=np.linspace(min(value), max(value), 42)\n",
    "    mean=np.array(value).mean()\n",
    "    std=np.array(value).std()\n",
    "    y_pdf=stats.norm.pdf(x,mean,std)\n",
    "    plt.hist(value, bins=1000, label=key, density = False)\n",
    "    plt.plot(x,y_pdf, label='PDF')\n",
    "    plt.title(key)\n",
    "    plt.legend()\n",
    "    plt.xlabel('Diff vs. Control')\n",
    "    plt.ylabel('Frequency')\n",
    "    plt.title(r'Histogram of Revenue Differences vs. Control')\n",
    "    plt.show()\n",
    "\n"
   ]
  },
  {
   "cell_type": "code",
   "execution_count": null,
   "metadata": {},
   "outputs": [],
   "source": [
    "alpha=0.05\n",
    "output = {}\n",
    "\n",
    "for keys in ad_bootstrapped_diff.keys():\n",
    "    val = np.percentile(ad_bootstrapped_diff[keys], 50)\n",
    "    low = np.percentile(ad_bootstrapped_diff[keys], 100 * (alpha / 2.))\n",
    "    high = np.percentile(ad_bootstrapped_diff[keys], 100 * (1 - alpha / 2.))\n",
    "    print(keys)\n",
    "    print('{}\\t({}, {})'.format(val,low,high))\n",
    "    print(min(2*np.sum(np.array(ad_bootstrapped_diff[keys]) < 0)/num_iterations,\n",
    "              2*np.sum(np.array(ad_bootstrapped_diff[keys]) > 0)/num_iterations))"
   ]
  },
  {
   "cell_type": "code",
   "execution_count": null,
   "metadata": {},
   "outputs": [],
   "source": [
    "for keys in ios_bootstrapped_diff.keys():\n",
    "    val = np.percentile(ios_bootstrapped_diff[keys], 50)\n",
    "    low = np.percentile(ios_bootstrapped_diff[keys], 100 * (alpha / 2.))\n",
    "    high = np.percentile(ios_bootstrapped_diff[keys], 100 * (1 - alpha / 2.))\n",
    "    print(keys)\n",
    "    print('{}\\t({}, {})'.format(val,low,high))\n",
    "    print(min(2*np.sum(np.array(ios_bootstrapped_diff[keys]) < 0)/num_iterations,\n",
    "              2*np.sum(np.array(ios_bootstrapped_diff[keys]) > 0)/num_iterations))"
   ]
  },
  {
   "cell_type": "code",
   "execution_count": null,
   "metadata": {},
   "outputs": [],
   "source": [
    "AD_rev_Subs_1d_3d = np.array(ad_bootstrapped_diff['AD_rev_Subs_1d_3d'])\n",
    "AD_rev_Subs_bump_3d = np.array(ad_bootstrapped_diff['AD_rev_Subs_bump_3d'])\n",
    "AD_rev_Subs_1d_3d_7d_14d = np.array(ad_bootstrapped_diff['AD_rev_Subs_1d_3d_7d_14d'])\n",
    "iOS_rev_Subs_1d_3d = np.array(ios_bootstrapped_diff['iOS_rev_Subs_1d_3d'])\n",
    "iOS_rev_Subs_bump_3d = np.array(ios_bootstrapped_diff['iOS_rev_Subs_bump_3d'])\n",
    "iOS_rev_Subs_1d_3d_7d_14d = np.array(ios_bootstrapped_diff['iOS_rev_Subs_1d_3d_7d_14d'])\n",
    "\n",
    "ad_diff = np.concatenate((AD_rev_Subs_1d_3d, AD_rev_Subs_bump_3d, AD_rev_Subs_1d_3d_7d_14d),0)\n",
    "gph = [AD_rev_Subs_1d_3d, AD_rev_Subs_bump_3d, AD_rev_Subs_1d_3d_7d_14d, iOS_rev_Subs_1d_3d, iOS_rev_Subs_bump_3d, iOS_rev_Subs_1d_3d_7d_14d]"
   ]
  },
  {
   "cell_type": "code",
   "execution_count": null,
   "metadata": {},
   "outputs": [],
   "source": [
    "# multiple box plots on one figure\n",
    "plt.figure(figsize=(12,6))\n",
    "plt.boxplot(gph, showfliers=False, vert=False)\n",
    "plt.show()"
   ]
  },
  {
   "cell_type": "markdown",
   "metadata": {},
   "source": [
    "# Archives"
   ]
  },
  {
   "cell_type": "code",
   "execution_count": null,
   "metadata": {},
   "outputs": [],
   "source": [
    "# from collections import defaultdict\n",
    "\n",
    "# num_iterations = 10\n",
    "# sim_final = defaultdict(list)\n",
    "# for variant, values in p.items():\n",
    "#     #print(int(values[1]))\n",
    "#     for i in range(num_iterations):\n",
    "#         n_non_zero = np.random.binomial(values[1], values[0])  \n",
    "#         revenue = np.sum(np.random.choice(a=variant_dic_nonzero[variant + '_iap'], size=n_non_zero, replace=True))\n",
    "#         sim_final[variant].append(revenue/values[1])\n",
    "\n",
    "# sim_final"
   ]
  },
  {
   "cell_type": "code",
   "execution_count": null,
   "metadata": {},
   "outputs": [],
   "source": [
    "# bootstrapped_means_diff = np.array(sim_final['AD_rev_Control']) - np.array(sim_final['AD_rev_Subs_1d_3d'])\n",
    "# alpha=0.05\n",
    "# low = np.percentile(bootstrapped_means_diff, 100 * (alpha / 2.))\n",
    "# val = np.percentile(bootstrapped_means_diff, 50)\n",
    "# high = np.percentile(bootstrapped_means_diff, 100 * (1 - alpha / 2.))\n",
    "\n",
    "# print(bootstrapped_means_diff.shape[0])\n",
    "# # print(variant)\n",
    "# print('{}\\t({}, {})'.format(val,low,high))\n",
    "# print('p-value: {}'.format(min(2*np.sum(bootstrapped_means_diff < 0)/bootstrapped_means_diff.shape[0],\n",
    "#                                2*np.sum(bootstrapped_means_diff > 0)/bootstrapped_means_diff.shape[0])))\n",
    "\n",
    "# print(bootstrapped_means_diff > 0)\n",
    "\n"
   ]
  },
  {
   "cell_type": "code",
   "execution_count": null,
   "metadata": {},
   "outputs": [],
   "source": [
    "# for variant in p.keys():\n",
    "#     bootstrapped_means_diff = np.array(sim_final[variant])\n",
    "#     alpha=0.05\n",
    "#     low = np.percentile(bootstrapped_means_diff, 100 * (alpha / 2.))\n",
    "#     val = np.percentile(bootstrapped_means_diff, 50)\n",
    "#     high = np.percentile(bootstrapped_means_diff, 100 * (1 - alpha / 2.))\n",
    "\n",
    "#     # print(ctrl.describe(), test.describe())\n",
    "#     print(variant)\n",
    "#     print('{}\\t({}, {})'.format(val,low,high))\n",
    "#     print('\\n')"
   ]
  },
  {
   "cell_type": "code",
   "execution_count": null,
   "metadata": {},
   "outputs": [],
   "source": []
  }
 ],
 "metadata": {
  "kernelspec": {
   "display_name": "Python 3",
   "language": "python",
   "name": "python3"
  },
  "language_info": {
   "codemirror_mode": {
    "name": "ipython",
    "version": 3
   },
   "file_extension": ".py",
   "mimetype": "text/x-python",
   "name": "python",
   "nbconvert_exporter": "python",
   "pygments_lexer": "ipython3",
   "version": "3.7.3"
  }
 },
 "nbformat": 4,
 "nbformat_minor": 2
}
